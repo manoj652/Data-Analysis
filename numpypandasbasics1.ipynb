{
 "cells": [
  {
   "cell_type": "code",
   "execution_count": 22,
   "metadata": {
    "collapsed": false
   },
   "outputs": [
    {
     "name": "stdout",
     "output_type": "stream",
     "text": [
      "\n",
      "WORKING WITH SERIES\n",
      "\n",
      "0    3\n",
      "1   -5\n",
      "2    7\n",
      "3    8\n",
      "4   -2\n",
      "dtype: int64\n"
     ]
    }
   ],
   "source": [
    "import numpy as np\n",
    "import pandas as pd\n",
    "from pandas import Series, DataFrame\n",
    "print(\"\\nWORKING WITH SERIES\\n\")\n",
    "data=[3,-5,7,8,-2]\n",
    "obj1=Series(data)\n",
    "print(obj1)"
   ]
  },
  {
   "cell_type": "code",
   "execution_count": 21,
   "metadata": {
    "collapsed": false
   },
   "outputs": [
    {
     "name": "stdout",
     "output_type": "stream",
     "text": [
      "one      3\n",
      "three   -5\n",
      "four     7\n",
      "two      8\n",
      "five    -2\n",
      "dtype: int64\n"
     ]
    }
   ],
   "source": [
    "obj2=Series(data,index=['one','three','four','two','five'])\n",
    "print(obj2)"
   ]
  },
  {
   "cell_type": "code",
   "execution_count": 12,
   "metadata": {
    "collapsed": false
   },
   "outputs": [
    {
     "name": "stdout",
     "output_type": "stream",
     "text": [
      "\n",
      "obj2.values= [ 3 -5  7  8 -2]\n",
      "\n",
      "obj2['three']= -5\n",
      "\n",
      "obj2[['three','two']]\n",
      " three   -5\n",
      "two      8\n",
      "dtype: int64\n",
      "\n",
      "obj2[:3]\n",
      " one      3\n",
      "three   -5\n",
      "four     7\n",
      "dtype: int64\n",
      "\n",
      "obj2[obj2>0]\n",
      " one     3\n",
      "four    7\n",
      "two     8\n",
      "dtype: int64\n",
      "\n",
      "'one' in obj2= True\n",
      "'six' in obj2= False\n"
     ]
    }
   ],
   "source": [
    "print(\"\\nobj2.values=\",obj2.values)\n",
    "print(\"\\nobj2['three']=\",obj2['three'])\n",
    "print(\"\\nobj2[['three','two']]\\n\",obj2[['three','two']])\n",
    "print(\"\\nobj2[:3]\\n\",obj2[:3])\n",
    "print(\"\\nobj2[obj2>0]\\n\",obj2[obj2>0])\n",
    "print(\"\\n'one' in obj2=\",'one' in obj2)\n",
    "print(\"'six' in obj2=\",'six' in obj2)"
   ]
  },
  {
   "cell_type": "code",
   "execution_count": 29,
   "metadata": {
    "collapsed": false
   },
   "outputs": [
    {
     "name": "stdout",
     "output_type": "stream",
     "text": [
      "\n",
      " Bihar     12000\n",
      "Kerala     5800\n",
      "Ktaka      8500\n",
      "dtype: int64\n"
     ]
    }
   ],
   "source": [
    "sdata={'Ktaka':8500,'Kerala':5800,'Bihar':12000}\n",
    "obj3=Series(sdata)\n",
    "print(\"\\n\",obj3)"
   ]
  },
  {
   "cell_type": "code",
   "execution_count": 28,
   "metadata": {
    "collapsed": false
   },
   "outputs": [
    {
     "name": "stdout",
     "output_type": "stream",
     "text": [
      "\n",
      " Ktaka      8500.0\n",
      "Kerala     5800.0\n",
      "Bihar     12000.0\n",
      "Punjab        NaN\n",
      "dtype: float64\n"
     ]
    }
   ],
   "source": [
    "states=['Ktaka','Kerala','Bihar','Punjab']\n",
    "obj3=Series(sdata,states)\n",
    "print(\"\\n\",obj3)"
   ]
  },
  {
   "cell_type": "code",
   "execution_count": 27,
   "metadata": {
    "collapsed": false
   },
   "outputs": [
    {
     "name": "stdout",
     "output_type": "stream",
     "text": [
      "\n",
      " Language\n",
      "Kannada       8500.0\n",
      "Malayalam     5800.0\n",
      "Hindi        12000.0\n",
      "Hindi        76000.0\n",
      "Punjab       76000.0\n",
      "Name: Population, dtype: float64\n",
      "\n",
      " State\n",
      "Kannada       8500.0\n",
      "Malayalam     5800.0\n",
      "Hindi        12000.0\n",
      "Hindi        76000.0\n",
      "Punjab       76000.0\n",
      "Name: Population, dtype: float64\n"
     ]
    }
   ],
   "source": [
    "obj3['Punjab']=76000\n",
    "print(\"\\n\",obj3)\n",
    "obj3.name='Population'\n",
    "obj3.index.name='State'\n",
    "print(\"\\n\",obj3)"
   ]
  },
  {
   "cell_type": "code",
   "execution_count": 26,
   "metadata": {
    "collapsed": false
   },
   "outputs": [
    {
     "name": "stdout",
     "output_type": "stream",
     "text": [
      "\n",
      " Language\n",
      "Kannada       8500.0\n",
      "Malayalam     5800.0\n",
      "Hindi        12000.0\n",
      "Hindi        76000.0\n",
      "Name: Population, dtype: float64\n",
      "Population that speaks hindi= 88000.0\n"
     ]
    }
   ],
   "source": [
    "obj3.index=['Kannada','Malayalam','Hindi','Hindi']\n",
    "obj3.index.name='Language'\n",
    "print(\"\\n\",obj3)\n",
    "print(\"Population that speaks hindi=\",sum(obj3['Hindi']))"
   ]
  },
  {
   "cell_type": "code",
   "execution_count": 25,
   "metadata": {
    "collapsed": false
   },
   "outputs": [
    {
     "name": "stdout",
     "output_type": "stream",
     "text": [
      "\n",
      "obj4[:2]+obj5[:2]\n",
      " 0    15\n",
      "1    30\n",
      "dtype: int64\n"
     ]
    }
   ],
   "source": [
    "obj4=Series(np.arange(10,101,10))\n",
    "obj5=Series(np.arange(5,51,5))\n",
    "print(\"\\nobj4[:2]+obj5[:2]\\n\",obj4[:2]+obj5[:2])"
   ]
  },
  {
   "cell_type": "code",
   "execution_count": 18,
   "metadata": {
    "collapsed": false
   },
   "outputs": [
    {
     "name": "stdout",
     "output_type": "stream",
     "text": [
      "\n",
      "WORKING WITH DATAFRAME\n",
      "\n",
      "   Population   State  Year\n",
      "0         1.5   Ktaka  2001\n",
      "1         1.2     Goa  2001\n",
      "2         1.7   Delhi  2002\n",
      "3         1.7  Kerala  2003\n",
      "\n",
      "         State  Year  Population Debt\n",
      "one     Ktaka  2001         1.5  NaN\n",
      "two       Goa  2001         1.2  NaN\n",
      "three   Delhi  2002         1.7  NaN\n",
      "four   Kerala  2003         1.7  NaN\n"
     ]
    }
   ],
   "source": [
    "print(\"\\nWORKING WITH DATAFRAME\\n\")\n",
    "data={'State':['Ktaka','Goa','Delhi','Kerala'],\n",
    "\t\t'Year':[2001,2001,2002,2003],\n",
    "\t\t'Population':[1.5,1.2,1.7,1.7]}\n",
    "frame1=DataFrame(data)\n",
    "print(frame1)\n",
    "frame1=DataFrame(data,columns=['State','Year','Population','Debt'],index=['one','two','three','four'])\n",
    "print(\"\\n\",frame1)"
   ]
  },
  {
   "cell_type": "code",
   "execution_count": 24,
   "metadata": {
    "collapsed": false
   },
   "outputs": [
    {
     "name": "stdout",
     "output_type": "stream",
     "text": [
      "\n",
      "     State  Year  Population  Debt\n",
      "0   Ktaka  2001         1.5   NaN\n",
      "1     Goa  2001         1.2   NaN\n",
      "2   Delhi  2002         1.7   NaN\n",
      "3  Kerala  2003         1.7   NaN\n"
     ]
    }
   ],
   "source": [
    "frame1.to_csv('population.csv',index=False,header=True)\n",
    "df=pd.read_csv('population.csv')\n",
    "print(\"\\n\",df)"
   ]
  },
  {
   "cell_type": "code",
   "execution_count": 23,
   "metadata": {
    "collapsed": false
   },
   "outputs": [
    {
     "name": "stdout",
     "output_type": "stream",
     "text": [
      "        State  Year  Population Debt\n",
      "one     Ktaka  2001         1.5  NaN\n",
      "two       Goa  2001         1.2  NaN\n",
      "three   Delhi  2002         1.7  NaN\n",
      "four   Kerala  2003         1.7  NaN \n",
      "\n",
      "\n",
      "frame1['State'].values= ['Ktaka' 'Goa' 'Delhi' 'Kerala']\n",
      "\n",
      "frame1.Population\n",
      " one      1.5\n",
      "two      1.2\n",
      "three    1.7\n",
      "four     1.7\n",
      "Name: Population, dtype: float64\n",
      "\n",
      "frame1.ix['two']\n",
      " State          Goa\n",
      "Year          2001\n",
      "Population     1.2\n",
      "Debt           NaN\n",
      "Name: two, dtype: object\n",
      "\n",
      "frame1.iat[1,2]= 1.2\n"
     ]
    }
   ],
   "source": [
    "print(frame1,\"\\n\")\n",
    "print(\"\\nframe1['State'].values=\",frame1['State'].values)\n",
    "print(\"\\nframe1.Population\\n\",frame1.Population)\n",
    "\n",
    "print(\"\\nframe1.ix['two']\\n\",frame1.ix['two'])\n",
    "print(\"\\nframe1.iat[1,2]=\",frame1.iat[1,2])\n"
   ]
  },
  {
   "cell_type": "code",
   "execution_count": null,
   "metadata": {
    "collapsed": true
   },
   "outputs": [],
   "source": []
  }
 ],
 "metadata": {
  "kernelspec": {
   "display_name": "Python 3",
   "language": "python",
   "name": "python3"
  },
  "language_info": {
   "codemirror_mode": {
    "name": "ipython",
    "version": 3
   },
   "file_extension": ".py",
   "mimetype": "text/x-python",
   "name": "python",
   "nbconvert_exporter": "python",
   "pygments_lexer": "ipython3",
   "version": "3.6.0"
  }
 },
 "nbformat": 4,
 "nbformat_minor": 2
}
